{
  "nbformat": 4,
  "nbformat_minor": 0,
  "metadata": {
    "colab": {
      "name": "make_classification.ipynb",
      "provenance": [],
      "authorship_tag": "ABX9TyNt2f1wLJP01EpVxbItQ4Q0"
    },
    "kernelspec": {
      "name": "python3",
      "display_name": "Python 3"
    }
  },
  "cells": [
    {
      "cell_type": "markdown",
      "metadata": {
        "id": "3JnSWN9fvuQK"
      },
      "source": [
        "2020.11.26\n",
        "\n",
        "https://scikit-learn.org/stable/modules/generated/sklearn.datasets.make_classification.html"
      ]
    },
    {
      "cell_type": "markdown",
      "metadata": {
        "id": "iqQ0t11Uvyhd"
      },
      "source": [
        "# sklearn.datasets.make_classification"
      ]
    },
    {
      "cell_type": "code",
      "metadata": {
        "id": "cvpF0QekueBU"
      },
      "source": [
        "from sklearn.datasets import make_classification\n",
        "\n",
        "X,y = make_classification(n_samples=50,n_features=10,n_informative=2)"
      ],
      "execution_count": 6,
      "outputs": []
    },
    {
      "cell_type": "code",
      "metadata": {
        "id": "Dwpz8hOruwWU"
      },
      "source": [
        "X"
      ],
      "execution_count": null,
      "outputs": []
    },
    {
      "cell_type": "code",
      "metadata": {
        "id": "Gq4BhQGNuywU"
      },
      "source": [
        "y"
      ],
      "execution_count": null,
      "outputs": []
    }
  ]
}